{
 "cells": [
  {
   "cell_type": "code",
   "execution_count": 2,
   "metadata": {},
   "outputs": [],
   "source": [
    "import numpy as np\n",
    "import pandas as pd\n",
    "import platform\n",
    "import os\n",
    "import datetime\n",
    "import time\n",
    "import sys\n",
    "sys.path.append(os.path.abspath('../'))\n",
    "import Ticker\n",
    "import common_vars as _v\n",
    "from data import get_pricing"
   ]
  },
  {
   "cell_type": "code",
   "execution_count": 48,
   "metadata": {},
   "outputs": [],
   "source": [
    "ticker_id = 'BID'\n",
    "buyAndSellDays = [[0, 2], [0, 3], [0, 4],\n",
    "                  [1, 3], [1, 4], [1, 0],\n",
    "                  [2, 4], [2, 0], [2, 1],\n",
    "                  [3, 0], [3, 1], [3, 2],\n",
    "                  [4, 1], [4, 2], [4, 3]\n",
    "                  ]\n",
    "budget = 5000  # 5tr\n",
    "start_date = '2020-01-01'\n",
    "best_profit = 0\n",
    "best_buy_day = -1\n",
    "best_sell_day = -1\n",
    "best_profit_ticker = ''\n",
    "highlight = ''\n",
    "commissionArr = np.array([[], [],[], [], [], [], []])"
   ]
  },
  {
   "cell_type": "code",
   "execution_count": 49,
   "metadata": {},
   "outputs": [],
   "source": [
    "prices = get_pricing(ticker_id, start_date=start_date, fields=['close', 'open'])\n",
    "ticker_data = np.array(prices)\n",
    "for weekday in buyAndSellDays:\n",
    "    sold = True\n",
    "    buy_price = 0\n",
    "    maxPrice = 0\n",
    "    minPrice = 0\n",
    "    commission = 0\n",
    "    total_commission = 0\n",
    "    time_loss = 0\n",
    "    time_profit = 0\n",
    "    history_log = ''\n",
    "    buyDay = weekday[0]\n",
    "    sellDay = weekday[1]\n",
    "    commissions = []"
   ]
  },
  {
   "cell_type": "code",
   "execution_count": 54,
   "metadata": {},
   "outputs": [
    {
     "ename": "ValueError",
     "evalue": "could not broadcast input array from shape (179) into shape (0)",
     "output_type": "error",
     "traceback": [
      "\u001b[0;31m---------------------------------------------------------------------------\u001b[0m",
      "\u001b[0;31mValueError\u001b[0m                                Traceback (most recent call last)",
      "\u001b[0;32m<ipython-input-54-bf366e62df79>\u001b[0m in \u001b[0;36m<module>\u001b[0;34m\u001b[0m\n\u001b[1;32m     32\u001b[0m             \u001b[0mtime_loss\u001b[0m \u001b[0;34m+=\u001b[0m \u001b[0;36m1\u001b[0m\u001b[0;34m\u001b[0m\u001b[0;34m\u001b[0m\u001b[0m\n\u001b[1;32m     33\u001b[0m             \u001b[0mhistory_log\u001b[0m \u001b[0;34m+=\u001b[0m \u001b[0;34m\". Lo \"\u001b[0m \u001b[0;34m+\u001b[0m \u001b[0mstr\u001b[0m\u001b[0;34m(\u001b[0m\u001b[0mcommission\u001b[0m\u001b[0;34m)\u001b[0m \u001b[0;34m+\u001b[0m \u001b[0;34m\"k\\n\"\u001b[0m\u001b[0;34m\u001b[0m\u001b[0;34m\u001b[0m\u001b[0m\n\u001b[0;32m---> 34\u001b[0;31m \u001b[0mcommissionArr\u001b[0m\u001b[0;34m[\u001b[0m\u001b[0mweekday\u001b[0m\u001b[0;34m]\u001b[0m \u001b[0;34m=\u001b[0m \u001b[0mnp\u001b[0m\u001b[0;34m.\u001b[0m\u001b[0marray\u001b[0m\u001b[0;34m(\u001b[0m\u001b[0mcommissions\u001b[0m\u001b[0;34m)\u001b[0m\u001b[0;34m\u001b[0m\u001b[0;34m\u001b[0m\u001b[0m\n\u001b[0m\u001b[1;32m     35\u001b[0m \u001b[0;31m#print(np.array(commissions))\u001b[0m\u001b[0;34m\u001b[0m\u001b[0;34m\u001b[0m\u001b[0;34m\u001b[0m\u001b[0m\n\u001b[1;32m     36\u001b[0m \u001b[0mprint\u001b[0m\u001b[0;34m(\u001b[0m\u001b[0mcommissionArr\u001b[0m\u001b[0;34m[\u001b[0m\u001b[0mweekday\u001b[0m\u001b[0;34m]\u001b[0m\u001b[0;34m)\u001b[0m\u001b[0;34m\u001b[0m\u001b[0;34m\u001b[0m\u001b[0m\n",
      "\u001b[0;31mValueError\u001b[0m: could not broadcast input array from shape (179) into shape (0)"
     ]
    }
   ],
   "source": [
    "    for price in ticker_data:\n",
    "        curr_date = price[2].strftime(\"%Y-%m-%d\")\n",
    "        # opened_price = price[\"open\"]\n",
    "        closed_price = price[0]\n",
    "        if closed_price > maxPrice:\n",
    "            maxPrice = closed_price\n",
    "        if minPrice == 0:\n",
    "            minPrice = closed_price\n",
    "        if closed_price < minPrice:\n",
    "            minPrice = closed_price\n",
    "        year, month, day = (int(x) for x in curr_date.split('-'))\n",
    "        ans = datetime.date(year, month, day)\n",
    "        # Monday is 0 and Sunday is 6.\n",
    "        weekday = ans.weekday()\n",
    "        if weekday == buyDay and sold is True:\n",
    "            sold = False\n",
    "            buy_price = closed_price\n",
    "            sl_buy = round(budget / (buy_price * 10)) * 10\n",
    "            history_log += \"Mua \" + str(sl_buy) + \" cp \" + ticker_id + \" gia: \" + str(buy_price) + \" ngay \" + \\\n",
    "                           curr_date + \"\\n\"\n",
    "        if weekday == sellDay and sold is False:\n",
    "            history_log += \"Ban \" + str(sl_buy) + \" cp \" + ticker_id + \" gia: \" + str(closed_price) + \" ngay \" + \\\n",
    "                           curr_date\n",
    "            sold = True\n",
    "            commission = round(sl_buy * (closed_price - buy_price), 2)\n",
    "            commissions.append(commission)\n",
    "            total_commission += commission\n",
    "            if buy_price < closed_price:\n",
    "                time_profit += 1\n",
    "                history_log += \". Lai \" + str(commission) + \"k\\n\"\n",
    "            else:\n",
    "                time_loss += 1\n",
    "                history_log += \". Lo \" + str(commission) + \"k\\n\"\n",
    "    commissionArr[weekday] = np.array(commissions)\n",
    "    #print(np.array(commissions))\n",
    "    print(commissionArr[weekday])\n",
    "    if total_commission > 0 and total_commission > budget * 0.1:\n",
    "        if total_commission > best_profit:\n",
    "            best_profit = total_commission\n",
    "            best_profit_ticker = ticker_id\n",
    "            best_buy_day = str(_v.WEEK_DAY[buyDay])\n",
    "            best_sell_day = str(_v.WEEK_DAY[sellDay])\n",
    "        if time_profit > time_loss * 1.5:\n",
    "            highlight = '[Highlight]'"
   ]
  },
  {
   "cell_type": "code",
   "execution_count": 34,
   "metadata": {},
   "outputs": [
    {
     "name": "stdout",
     "output_type": "stream",
     "text": [
      "[Blue Chip][Highlight]BID giving best profit: 1280000.0 when buy on Friday and sell on Thursday\n"
     ]
    }
   ],
   "source": [
    "if best_profit > 0:\n",
    "    print(\"[Blue Chip]\" + highlight + ticker_id + \" giving best profit: \" + str(round(best_profit * 1000, 2)) + \" when buy on \" + best_buy_day + \" and sell on \" + best_sell_day)"
   ]
  },
  {
   "cell_type": "code",
   "execution_count": 35,
   "metadata": {},
   "outputs": [
    {
     "name": "stdout",
     "output_type": "stream",
     "text": [
      "0\n"
     ]
    }
   ],
   "source": [
    "print(commissionArr[0])"
   ]
  },
  {
   "cell_type": "code",
   "execution_count": null,
   "metadata": {},
   "outputs": [],
   "source": []
  }
 ],
 "metadata": {
  "kernelspec": {
   "display_name": "Python 3",
   "language": "python",
   "name": "python3"
  },
  "language_info": {
   "codemirror_mode": {
    "name": "ipython",
    "version": 3
   },
   "file_extension": ".py",
   "mimetype": "text/x-python",
   "name": "python",
   "nbconvert_exporter": "python",
   "pygments_lexer": "ipython3",
   "version": "3.6.9"
  }
 },
 "nbformat": 4,
 "nbformat_minor": 4
}
